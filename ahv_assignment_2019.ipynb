{
 "cells": [
  {
   "cell_type": "code",
   "execution_count": 2,
   "metadata": {},
   "outputs": [],
   "source": [
    "import pandas as pd # version '0.18.1'\n",
    "from datetime import datetime,timedelta\n",
    "import time\n",
    "import ast"
   ]
  },
  {
   "cell_type": "markdown",
   "metadata": {},
   "source": [
    "This notebook assignes complaints a binary value based on whether there was an AHV permit nearby. The way this is done is by iterating through each of the permits for a given complaint and checking if there is a permit within 300 metres and is issued for the time of the complaint."
   ]
  },
  {
   "cell_type": "code",
   "execution_count": 3,
   "metadata": {},
   "outputs": [],
   "source": [
    "complaints19 = pd.read_csv('2019_week.csv')"
   ]
  },
  {
   "cell_type": "code",
   "execution_count": 14,
   "metadata": {},
   "outputs": [
    {
     "data": {
      "text/plain": [
       "(833, 41)"
      ]
     },
     "execution_count": 14,
     "metadata": {},
     "output_type": "execute_result"
    }
   ],
   "source": [
    "complaints19.shape"
   ]
  },
  {
   "cell_type": "code",
   "execution_count": 17,
   "metadata": {},
   "outputs": [],
   "source": [
    "complaints19['Created Date'] = pd.to_datetime(complaints19['Created Date'])"
   ]
  },
  {
   "cell_type": "code",
   "execution_count": 18,
   "metadata": {},
   "outputs": [],
   "source": [
    "ahv_2019 = pd.read_csv('ahv_data_with_geo_20190622_20190630.csv')"
   ]
  },
  {
   "cell_type": "code",
   "execution_count": 19,
   "metadata": {},
   "outputs": [
    {
     "data": {
      "text/plain": [
       "(4540, 15)"
      ]
     },
     "execution_count": 19,
     "metadata": {},
     "output_type": "execute_result"
    }
   ],
   "source": [
    "ahv_2019.shape"
   ]
  },
  {
   "cell_type": "code",
   "execution_count": 20,
   "metadata": {},
   "outputs": [
    {
     "data": {
      "text/plain": [
       "Index(['ahv_id', 'timestamp_utc', 'building_identification_number', 'status',\n",
       "       'residence_within_200_feet', 'enclosed_building_work',\n",
       "       'full_or_partial_demolition', 'crane_use', 'requested_for_date_ranges',\n",
       "       'apply_reason', 'work_description', 'the_geom', 'house_number',\n",
       "       'street_name', 'zip_code'],\n",
       "      dtype='object')"
      ]
     },
     "execution_count": 20,
     "metadata": {},
     "output_type": "execute_result"
    }
   ],
   "source": [
    "ahv_2019.columns"
   ]
  },
  {
   "cell_type": "code",
   "execution_count": 21,
   "metadata": {},
   "outputs": [],
   "source": [
    "ahv_2019['timestamp_utc'] = pd.to_datetime(ahv_2019['timestamp_utc'])"
   ]
  },
  {
   "cell_type": "code",
   "execution_count": 22,
   "metadata": {},
   "outputs": [
    {
     "data": {
      "text/html": [
       "<div>\n",
       "<table border=\"1\" class=\"dataframe\">\n",
       "  <thead>\n",
       "    <tr style=\"text-align: right;\">\n",
       "      <th></th>\n",
       "      <th>ahv_id</th>\n",
       "      <th>timestamp_utc</th>\n",
       "      <th>building_identification_number</th>\n",
       "      <th>status</th>\n",
       "      <th>residence_within_200_feet</th>\n",
       "      <th>enclosed_building_work</th>\n",
       "      <th>full_or_partial_demolition</th>\n",
       "      <th>crane_use</th>\n",
       "      <th>requested_for_date_ranges</th>\n",
       "      <th>apply_reason</th>\n",
       "      <th>work_description</th>\n",
       "      <th>the_geom</th>\n",
       "      <th>house_number</th>\n",
       "      <th>street_name</th>\n",
       "      <th>zip_code</th>\n",
       "    </tr>\n",
       "  </thead>\n",
       "  <tbody>\n",
       "    <tr>\n",
       "      <th>4531</th>\n",
       "      <td>895400</td>\n",
       "      <td>2019-07-02 00:15:23.180243</td>\n",
       "      <td>1086107.0</td>\n",
       "      <td>PENDING DOB REVIEW</td>\n",
       "      <td>True</td>\n",
       "      <td>True</td>\n",
       "      <td>False</td>\n",
       "      <td>False</td>\n",
       "      <td>{\"07/06/2019\": [\"9:00 AM\", \"5:00 PM\"], \"07/07/...</td>\n",
       "      <td>CONSTRUCTION ACTIVITIES WITH MINIMAL NOISE IMPACT</td>\n",
       "      <td>GENERAL CONSTRUCTION, MECHANICAL, PLUMBING AND...</td>\n",
       "      <td>POINT (-73.9733516657426 40.79044104921986)</td>\n",
       "      <td>203</td>\n",
       "      <td>W  90 ST</td>\n",
       "      <td>10024.0</td>\n",
       "    </tr>\n",
       "    <tr>\n",
       "      <th>4530</th>\n",
       "      <td>895400</td>\n",
       "      <td>2019-07-02 00:15:23.180243</td>\n",
       "      <td>1086107.0</td>\n",
       "      <td>PENDING DOB REVIEW</td>\n",
       "      <td>True</td>\n",
       "      <td>True</td>\n",
       "      <td>False</td>\n",
       "      <td>False</td>\n",
       "      <td>{\"07/06/2019\": [\"9:00 AM\", \"5:00 PM\"], \"07/07/...</td>\n",
       "      <td>CONSTRUCTION ACTIVITIES WITH MINIMAL NOISE IMPACT</td>\n",
       "      <td>GENERAL CONSTRUCTION, MECHANICAL, PLUMBING AND...</td>\n",
       "      <td>POINT (-73.97362627275918 40.7905563800375)</td>\n",
       "      <td>201</td>\n",
       "      <td>W  90 ST</td>\n",
       "      <td>10024.0</td>\n",
       "    </tr>\n",
       "    <tr>\n",
       "      <th>4529</th>\n",
       "      <td>895400</td>\n",
       "      <td>2019-07-02 00:15:23.180243</td>\n",
       "      <td>1086107.0</td>\n",
       "      <td>PENDING DOB REVIEW</td>\n",
       "      <td>True</td>\n",
       "      <td>True</td>\n",
       "      <td>False</td>\n",
       "      <td>False</td>\n",
       "      <td>{\"07/06/2019\": [\"9:00 AM\", \"5:00 PM\"], \"07/07/...</td>\n",
       "      <td>CONSTRUCTION ACTIVITIES WITH MINIMAL NOISE IMPACT</td>\n",
       "      <td>GENERAL CONSTRUCTION, MECHANICAL, PLUMBING AND...</td>\n",
       "      <td>POINT (-73.97313410813321 40.790576314930966)</td>\n",
       "      <td>622</td>\n",
       "      <td>AMSTERDAM AVE</td>\n",
       "      <td>10024.0</td>\n",
       "    </tr>\n",
       "    <tr>\n",
       "      <th>4528</th>\n",
       "      <td>895400</td>\n",
       "      <td>2019-07-02 00:15:23.180243</td>\n",
       "      <td>1086107.0</td>\n",
       "      <td>PENDING DOB REVIEW</td>\n",
       "      <td>True</td>\n",
       "      <td>True</td>\n",
       "      <td>False</td>\n",
       "      <td>False</td>\n",
       "      <td>{\"07/06/2019\": [\"9:00 AM\", \"5:00 PM\"], \"07/07/...</td>\n",
       "      <td>CONSTRUCTION ACTIVITIES WITH MINIMAL NOISE IMPACT</td>\n",
       "      <td>GENERAL CONSTRUCTION, MECHANICAL, PLUMBING AND...</td>\n",
       "      <td>POINT (-73.97321602091303 40.79046365460613)</td>\n",
       "      <td>620</td>\n",
       "      <td>AMSTERDAM AVE</td>\n",
       "      <td>10024.0</td>\n",
       "    </tr>\n",
       "    <tr>\n",
       "      <th>4527</th>\n",
       "      <td>895399</td>\n",
       "      <td>2019-07-02 00:15:22.828550</td>\n",
       "      <td>1035421.0</td>\n",
       "      <td>PENDING DOB REVIEW</td>\n",
       "      <td>True</td>\n",
       "      <td>False</td>\n",
       "      <td>True</td>\n",
       "      <td>False</td>\n",
       "      <td>{\"07/03/2019\": [\"6:00 PM\", \"7:00 AM\"], \"07/04/...</td>\n",
       "      <td>PUBLIC SAFETY</td>\n",
       "      <td>INTERIOR DEMOLITION / DEMOLITION WASTE LOAD OUT</td>\n",
       "      <td>POINT (-73.97658179551124 40.75623043429942)</td>\n",
       "      <td>401</td>\n",
       "      <td>MADISON AVE</td>\n",
       "      <td>10017.0</td>\n",
       "    </tr>\n",
       "  </tbody>\n",
       "</table>\n",
       "</div>"
      ],
      "text/plain": [
       "      ahv_id              timestamp_utc  building_identification_number  \\\n",
       "4531  895400 2019-07-02 00:15:23.180243                       1086107.0   \n",
       "4530  895400 2019-07-02 00:15:23.180243                       1086107.0   \n",
       "4529  895400 2019-07-02 00:15:23.180243                       1086107.0   \n",
       "4528  895400 2019-07-02 00:15:23.180243                       1086107.0   \n",
       "4527  895399 2019-07-02 00:15:22.828550                       1035421.0   \n",
       "\n",
       "                  status residence_within_200_feet enclosed_building_work  \\\n",
       "4531  PENDING DOB REVIEW                      True                   True   \n",
       "4530  PENDING DOB REVIEW                      True                   True   \n",
       "4529  PENDING DOB REVIEW                      True                   True   \n",
       "4528  PENDING DOB REVIEW                      True                   True   \n",
       "4527  PENDING DOB REVIEW                      True                  False   \n",
       "\n",
       "     full_or_partial_demolition crane_use  \\\n",
       "4531                      False     False   \n",
       "4530                      False     False   \n",
       "4529                      False     False   \n",
       "4528                      False     False   \n",
       "4527                       True     False   \n",
       "\n",
       "                              requested_for_date_ranges  \\\n",
       "4531  {\"07/06/2019\": [\"9:00 AM\", \"5:00 PM\"], \"07/07/...   \n",
       "4530  {\"07/06/2019\": [\"9:00 AM\", \"5:00 PM\"], \"07/07/...   \n",
       "4529  {\"07/06/2019\": [\"9:00 AM\", \"5:00 PM\"], \"07/07/...   \n",
       "4528  {\"07/06/2019\": [\"9:00 AM\", \"5:00 PM\"], \"07/07/...   \n",
       "4527  {\"07/03/2019\": [\"6:00 PM\", \"7:00 AM\"], \"07/04/...   \n",
       "\n",
       "                                           apply_reason  \\\n",
       "4531  CONSTRUCTION ACTIVITIES WITH MINIMAL NOISE IMPACT   \n",
       "4530  CONSTRUCTION ACTIVITIES WITH MINIMAL NOISE IMPACT   \n",
       "4529  CONSTRUCTION ACTIVITIES WITH MINIMAL NOISE IMPACT   \n",
       "4528  CONSTRUCTION ACTIVITIES WITH MINIMAL NOISE IMPACT   \n",
       "4527                                      PUBLIC SAFETY   \n",
       "\n",
       "                                       work_description  \\\n",
       "4531  GENERAL CONSTRUCTION, MECHANICAL, PLUMBING AND...   \n",
       "4530  GENERAL CONSTRUCTION, MECHANICAL, PLUMBING AND...   \n",
       "4529  GENERAL CONSTRUCTION, MECHANICAL, PLUMBING AND...   \n",
       "4528  GENERAL CONSTRUCTION, MECHANICAL, PLUMBING AND...   \n",
       "4527    INTERIOR DEMOLITION / DEMOLITION WASTE LOAD OUT   \n",
       "\n",
       "                                           the_geom house_number  \\\n",
       "4531    POINT (-73.9733516657426 40.79044104921986)          203   \n",
       "4530    POINT (-73.97362627275918 40.7905563800375)          201   \n",
       "4529  POINT (-73.97313410813321 40.790576314930966)          622   \n",
       "4528   POINT (-73.97321602091303 40.79046365460613)          620   \n",
       "4527   POINT (-73.97658179551124 40.75623043429942)          401   \n",
       "\n",
       "        street_name  zip_code  \n",
       "4531       W  90 ST   10024.0  \n",
       "4530       W  90 ST   10024.0  \n",
       "4529  AMSTERDAM AVE   10024.0  \n",
       "4528  AMSTERDAM AVE   10024.0  \n",
       "4527    MADISON AVE   10017.0  "
      ]
     },
     "execution_count": 22,
     "metadata": {},
     "output_type": "execute_result"
    }
   ],
   "source": [
    "ahv_2019.dropna().sort_values('timestamp_utc',ascending=False).head()"
   ]
  },
  {
   "cell_type": "code",
   "execution_count": 23,
   "metadata": {},
   "outputs": [],
   "source": [
    "def filtered_time(complaint, ahv_2019):\n",
    "    ''' \n",
    "    This function returns the indexes of all the AHV permits\n",
    "    that the complaint lies within.\n",
    "    Input : Single complaint, dataframe of AHV permits\n",
    "    Output : AHV permit indexes\n",
    "    '''\n",
    "    column_list = []\n",
    "    for index , x in ahv_2019.dropna().iterrows():\n",
    "        for i in ast.literal_eval(x.requested_for_date_ranges).keys():\n",
    "            start_time = pd.to_datetime(str(pd.to_datetime(i))+' '+\\\n",
    "                                        str(datetime.strptime(ast.literal_eval(x.requested_for_date_ranges)[i][0], '%I:%M %p'))[11:])\n",
    "            if (\"PM\" in ast.literal_eval(x.requested_for_date_ranges)[i][0]) & \\\n",
    "        (\"AM\" in ast.literal_eval(x.requested_for_date_ranges)[i][1]):\n",
    "                end_time = pd.to_datetime(str(pd.to_datetime(i)+timedelta(days=1))+' '+\\\n",
    "                                          str(datetime.strptime(ast.literal_eval(x.requested_for_date_ranges)[i][1],\\\n",
    "                                                                '%I:%M %p'))[11:])\n",
    "            else:\n",
    "                end_time = pd.to_datetime(str(pd.to_datetime(i))+' '+\\\n",
    "                                          str(datetime.strptime(ast.literal_eval(x.requested_for_date_ranges)[i][1], '%I:%M %p'))[11:])\n",
    "            if ((complaint['Created Date']>start_time)&(complaint['Created Date']<end_time)):\n",
    "                column_list.append(index)\n",
    "    return(column_list)"
   ]
  },
  {
   "cell_type": "code",
   "execution_count": 24,
   "metadata": {},
   "outputs": [],
   "source": [
    "def return_dist(complaint_lat,complaint_lon,ahv_lat,ahv_lon):\n",
    "    ''' \n",
    "    This function returns the distance between two points\n",
    "    Input : Latitude1, Longitude1, Latitude2, Longitude2\n",
    "    Output : Distance in Metres\n",
    "    '''\n",
    "    from math import sin, cos, sqrt, atan2, radians\n",
    "    R = 6373.0\n",
    "    lat1 = radians(complaint_lat)\n",
    "    lon1 = radians(complaint_lon)\n",
    "    lat2 = radians(ahv_lat)\n",
    "    lon2 = radians(ahv_lon)\n",
    "\n",
    "    dlon = lon2 - lon1\n",
    "    dlat = lat2 - lat1\n",
    "\n",
    "    a = sin(dlat / 2)**2 + cos(lat1) * cos(lat2) * sin(dlon / 2)**2\n",
    "    c = 2 * atan2(sqrt(a), sqrt(1 - a))\n",
    "    distance = R * c\n",
    "    return(distance*1000)"
   ]
  },
  {
   "cell_type": "code",
   "execution_count": 25,
   "metadata": {},
   "outputs": [],
   "source": [
    "def filterdistance(complaint, ahv_df):\n",
    "       ''' \n",
    "       This function returns the indexes of all the AHV permits\n",
    "       that the complaint lies within.\n",
    "       Input : Single complaint, dataframe of AHV permits\n",
    "       Output : AHV permit indexes\n",
    "       '''\n",
    "    ahv_list = []\n",
    "    for index,i in ahv_df.iterrows(): #for each ahv record\n",
    "        ahv_lon = float(i.the_geom.replace('POINT (','').replace(')','').split(' ')[0])\n",
    "        ahv_lat = float(i.the_geom.replace('POINT (','').replace(')','').split(' ')[1])\n",
    "        if return_dist(float(complaint.Latitude), float(complaint.Longitude), ahv_lat, ahv_lon)<200: #if distance is less than 200m\n",
    "            ahv_list.append(index)\n",
    "#             ahv_within_radius.append(list(i))\n",
    "\n",
    "    return (ahv_list)"
   ]
  },
  {
   "cell_type": "code",
   "execution_count": null,
   "metadata": {},
   "outputs": [],
   "source": [
    "complaints19['AHV'] = 0\n",
    "start= time.time()\n",
    "for index,i in complaints19.iterrows():\n",
    "    time_indices = []\n",
    "    space_indices = []\n",
    "    time_indices = filtered_time(i,ahv_2019)\n",
    "    #print (time_indices)\n",
    "    ahv_final = ahv_2019.ix[time_indices]\n",
    "    space_indices = filterdistance(i,ahv_final)\n",
    "    if len(space_indices)>0:\n",
    "        complaints19.AHV.loc[index] = 1\n",
    "\n",
    "print(\"Time to run: {} seconds\".format(time.time()-start))"
   ]
  },
  {
   "cell_type": "code",
   "execution_count": 31,
   "metadata": {},
   "outputs": [],
   "source": [
    "complaints19.to_csv('ahv_assigned_files/ahv_assigned_complaints1.csv')"
   ]
  },
  {
   "cell_type": "code",
   "execution_count": null,
   "metadata": {},
   "outputs": [],
   "source": []
  }
 ],
 "metadata": {
  "kernelspec": {
   "display_name": "PUI2016_Python3",
   "language": "python",
   "name": "pui2016_python3"
  },
  "language_info": {
   "codemirror_mode": {
    "name": "ipython",
    "version": 3
   },
   "file_extension": ".py",
   "mimetype": "text/x-python",
   "name": "python",
   "nbconvert_exporter": "python",
   "pygments_lexer": "ipython3",
   "version": "3.5.4"
  }
 },
 "nbformat": 4,
 "nbformat_minor": 2
}
